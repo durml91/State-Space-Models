{
  "nbformat": 4,
  "nbformat_minor": 0,
  "metadata": {
    "colab": {
      "provenance": [],
      "authorship_tag": "ABX9TyMvHyaRcEgSeeK0ZMTJmO5N",
      "include_colab_link": true
    },
    "kernelspec": {
      "name": "python3",
      "display_name": "Python 3"
    },
    "language_info": {
      "name": "python"
    }
  },
  "cells": [
    {
      "cell_type": "markdown",
      "metadata": {
        "id": "view-in-github",
        "colab_type": "text"
      },
      "source": [
        "<a href=\"https://colab.research.google.com/github/durml91/State-Space-Models/blob/main/JAX_Pallas_explo.ipynb\" target=\"_parent\"><img src=\"https://colab.research.google.com/assets/colab-badge.svg\" alt=\"Open In Colab\"/></a>"
      ]
    },
    {
      "cell_type": "markdown",
      "source": [
        "https://astralord.github.io/posts/exploring-parallel-strategies-with-jax/"
      ],
      "metadata": {
        "id": "ZqGsRPku4r60"
      }
    },
    {
      "cell_type": "code",
      "execution_count": 4,
      "metadata": {
        "id": "-4hYc24d4et7"
      },
      "outputs": [],
      "source": [
        "import os\n",
        "import jax\n",
        "import jax.numpy as jnp"
      ]
    },
    {
      "cell_type": "code",
      "source": [
        "os.environ[\"XLA_FLAGS\"] = '--xla_force_host_platform_device_count=8'"
      ],
      "metadata": {
        "id": "n2Wam8tW4l_u"
      },
      "execution_count": 5,
      "outputs": []
    },
    {
      "cell_type": "code",
      "source": [
        "jax.devices()"
      ],
      "metadata": {
        "colab": {
          "base_uri": "https://localhost:8080/"
        },
        "id": "11w58dud4pJh",
        "outputId": "6d579515-9642-4917-eed0-fb0cb169d06b"
      },
      "execution_count": 6,
      "outputs": [
        {
          "output_type": "execute_result",
          "data": {
            "text/plain": [
              "[CpuDevice(id=0),\n",
              " CpuDevice(id=1),\n",
              " CpuDevice(id=2),\n",
              " CpuDevice(id=3),\n",
              " CpuDevice(id=4),\n",
              " CpuDevice(id=5),\n",
              " CpuDevice(id=6),\n",
              " CpuDevice(id=7)]"
            ]
          },
          "metadata": {},
          "execution_count": 6
        }
      ]
    },
    {
      "cell_type": "code",
      "source": [
        "batch_size, embed_dim = 16, 8\n",
        "x = jnp.zeros((batch_size, embed_dim))\n",
        "print(x.device())"
      ],
      "metadata": {
        "colab": {
          "base_uri": "https://localhost:8080/"
        },
        "id": "cJayirhv2dg4",
        "outputId": "2beefc82-78a8-452c-8b87-7cf0e26756df"
      },
      "execution_count": 7,
      "outputs": [
        {
          "output_type": "stream",
          "name": "stdout",
          "text": [
            "TFRT_CPU_0\n"
          ]
        },
        {
          "output_type": "stream",
          "name": "stderr",
          "text": [
            "<ipython-input-7-dbeb9b7bc700>:3: DeprecationWarning: arr.device() is deprecated. Use arr.devices() instead.\n",
            "  print(x.device())\n"
          ]
        }
      ]
    },
    {
      "cell_type": "code",
      "source": [
        "# put array x on specific device\n",
        "jax.device_put(x, jax.devices()[5]).device()"
      ],
      "metadata": {
        "colab": {
          "base_uri": "https://localhost:8080/"
        },
        "id": "YeKnuhVh5lEe",
        "outputId": "5c84f586-ef24-43a8-a500-c61b178165a7"
      },
      "execution_count": 8,
      "outputs": [
        {
          "output_type": "stream",
          "name": "stderr",
          "text": [
            "<ipython-input-8-e12fc6ff46e2>:2: DeprecationWarning: arr.device() is deprecated. Use arr.devices() instead.\n",
            "  jax.device_put(x, jax.devices()[5]).device()\n"
          ]
        },
        {
          "output_type": "execute_result",
          "data": {
            "text/plain": [
              "CpuDevice(id=5)"
            ]
          },
          "metadata": {},
          "execution_count": 8
        }
      ]
    },
    {
      "cell_type": "code",
      "source": [
        "from jax.sharding import PositionalSharding\n",
        "\n",
        "sharding = PositionalSharding(jax.devices())"
      ],
      "metadata": {
        "id": "2xT7CtF_5zCz"
      },
      "execution_count": 10,
      "outputs": []
    },
    {
      "cell_type": "code",
      "source": [
        "G = jax.local_device_count()"
      ],
      "metadata": {
        "id": "wwsePAyW56VE"
      },
      "execution_count": 11,
      "outputs": []
    },
    {
      "cell_type": "code",
      "source": [
        "sharding.shape"
      ],
      "metadata": {
        "colab": {
          "base_uri": "https://localhost:8080/"
        },
        "id": "xQXryJH06HAs",
        "outputId": "2d2bd9a3-24e7-42c4-fc63-c555397c125b"
      },
      "execution_count": 14,
      "outputs": [
        {
          "output_type": "execute_result",
          "data": {
            "text/plain": [
              "(8,)"
            ]
          },
          "metadata": {},
          "execution_count": 14
        }
      ]
    },
    {
      "cell_type": "code",
      "source": [
        "G"
      ],
      "metadata": {
        "colab": {
          "base_uri": "https://localhost:8080/"
        },
        "id": "s8gflAlY6J-f",
        "outputId": "c26cab75-7579-4c1d-a5a8-3b874beef31c"
      },
      "execution_count": 15,
      "outputs": [
        {
          "output_type": "execute_result",
          "data": {
            "text/plain": [
              "8"
            ]
          },
          "metadata": {},
          "execution_count": 15
        }
      ]
    },
    {
      "cell_type": "code",
      "source": [
        "sharded_x = jax.device_put(x, sharding.reshape(1, G))"
      ],
      "metadata": {
        "id": "tyszUeJm5_IS"
      },
      "execution_count": 16,
      "outputs": []
    },
    {
      "cell_type": "code",
      "source": [
        "from jax.debug import visualize_array_sharding\n",
        "import matplotlib as mpl"
      ],
      "metadata": {
        "id": "_8An3Ri16PKo"
      },
      "execution_count": 18,
      "outputs": []
    },
    {
      "cell_type": "code",
      "source": [
        "def visualise(tensor, color_map=\"Set3\"):\n",
        "  return visualize_array_sharding(tensor, color_map=mpl.colormaps[color_map])"
      ],
      "metadata": {
        "id": "mpxGqCHQ6Vef"
      },
      "execution_count": 22,
      "outputs": []
    },
    {
      "cell_type": "code",
      "source": [
        "visualise(sharded_x)"
      ],
      "metadata": {
        "colab": {
          "base_uri": "https://localhost:8080/",
          "height": 193
        },
        "id": "j57JMrRK6jza",
        "outputId": "8cfde4ab-291e-4272-c9cd-3de1e5cca41c"
      },
      "execution_count": 23,
      "outputs": [
        {
          "output_type": "display_data",
          "data": {
            "text/plain": [
              "\u001b[38;2;0;0;0;48;2;141;211;199m         \u001b[0m\u001b[38;2;0;0;0;48;2;217;217;217m         \u001b[0m\u001b[38;2;255;255;255;48;2;251;128;114m         \u001b[0m\u001b[38;2;0;0;0;48;2;255;237;111m         \u001b[0m\u001b[38;2;0;0;0;48;2;179;222;105m         \u001b[0m\u001b[38;2;0;0;0;48;2;255;255;179m         \u001b[0m\u001b[38;2;0;0;0;48;2;204;235;197m         \u001b[0m\u001b[38;2;0;0;0;48;2;253;180;98m         \u001b[0m\n",
              "\u001b[38;2;0;0;0;48;2;141;211;199m         \u001b[0m\u001b[38;2;0;0;0;48;2;217;217;217m         \u001b[0m\u001b[38;2;255;255;255;48;2;251;128;114m         \u001b[0m\u001b[38;2;0;0;0;48;2;255;237;111m         \u001b[0m\u001b[38;2;0;0;0;48;2;179;222;105m         \u001b[0m\u001b[38;2;0;0;0;48;2;255;255;179m         \u001b[0m\u001b[38;2;0;0;0;48;2;204;235;197m         \u001b[0m\u001b[38;2;0;0;0;48;2;253;180;98m         \u001b[0m\n",
              "\u001b[38;2;0;0;0;48;2;141;211;199m         \u001b[0m\u001b[38;2;0;0;0;48;2;217;217;217m         \u001b[0m\u001b[38;2;255;255;255;48;2;251;128;114m         \u001b[0m\u001b[38;2;0;0;0;48;2;255;237;111m         \u001b[0m\u001b[38;2;0;0;0;48;2;179;222;105m         \u001b[0m\u001b[38;2;0;0;0;48;2;255;255;179m         \u001b[0m\u001b[38;2;0;0;0;48;2;204;235;197m         \u001b[0m\u001b[38;2;0;0;0;48;2;253;180;98m         \u001b[0m\n",
              "\u001b[38;2;0;0;0;48;2;141;211;199m         \u001b[0m\u001b[38;2;0;0;0;48;2;217;217;217m         \u001b[0m\u001b[38;2;255;255;255;48;2;251;128;114m         \u001b[0m\u001b[38;2;0;0;0;48;2;255;237;111m         \u001b[0m\u001b[38;2;0;0;0;48;2;179;222;105m         \u001b[0m\u001b[38;2;0;0;0;48;2;255;255;179m         \u001b[0m\u001b[38;2;0;0;0;48;2;204;235;197m         \u001b[0m\u001b[38;2;0;0;0;48;2;253;180;98m         \u001b[0m\n",
              "\u001b[38;2;0;0;0;48;2;141;211;199m         \u001b[0m\u001b[38;2;0;0;0;48;2;217;217;217m         \u001b[0m\u001b[38;2;255;255;255;48;2;251;128;114m         \u001b[0m\u001b[38;2;0;0;0;48;2;255;237;111m         \u001b[0m\u001b[38;2;0;0;0;48;2;179;222;105m         \u001b[0m\u001b[38;2;0;0;0;48;2;255;255;179m         \u001b[0m\u001b[38;2;0;0;0;48;2;204;235;197m         \u001b[0m\u001b[38;2;0;0;0;48;2;253;180;98m         \u001b[0m\n",
              "\u001b[38;2;0;0;0;48;2;141;211;199m  \u001b[0m\u001b[38;2;0;0;0;48;2;141;211;199mCPU 0\u001b[0m\u001b[38;2;0;0;0;48;2;141;211;199m  \u001b[0m\u001b[38;2;0;0;0;48;2;217;217;217m  \u001b[0m\u001b[38;2;0;0;0;48;2;217;217;217mCPU 1\u001b[0m\u001b[38;2;0;0;0;48;2;217;217;217m  \u001b[0m\u001b[38;2;255;255;255;48;2;251;128;114m  \u001b[0m\u001b[38;2;255;255;255;48;2;251;128;114mCPU 2\u001b[0m\u001b[38;2;255;255;255;48;2;251;128;114m  \u001b[0m\u001b[38;2;0;0;0;48;2;255;237;111m  \u001b[0m\u001b[38;2;0;0;0;48;2;255;237;111mCPU 3\u001b[0m\u001b[38;2;0;0;0;48;2;255;237;111m  \u001b[0m\u001b[38;2;0;0;0;48;2;179;222;105m  \u001b[0m\u001b[38;2;0;0;0;48;2;179;222;105mCPU 4\u001b[0m\u001b[38;2;0;0;0;48;2;179;222;105m  \u001b[0m\u001b[38;2;0;0;0;48;2;255;255;179m  \u001b[0m\u001b[38;2;0;0;0;48;2;255;255;179mCPU 5\u001b[0m\u001b[38;2;0;0;0;48;2;255;255;179m  \u001b[0m\u001b[38;2;0;0;0;48;2;204;235;197m  \u001b[0m\u001b[38;2;0;0;0;48;2;204;235;197mCPU 6\u001b[0m\u001b[38;2;0;0;0;48;2;204;235;197m  \u001b[0m\u001b[38;2;0;0;0;48;2;253;180;98m  \u001b[0m\u001b[38;2;0;0;0;48;2;253;180;98mCPU 7\u001b[0m\u001b[38;2;0;0;0;48;2;253;180;98m  \u001b[0m\n",
              "\u001b[38;2;0;0;0;48;2;141;211;199m         \u001b[0m\u001b[38;2;0;0;0;48;2;217;217;217m         \u001b[0m\u001b[38;2;255;255;255;48;2;251;128;114m         \u001b[0m\u001b[38;2;0;0;0;48;2;255;237;111m         \u001b[0m\u001b[38;2;0;0;0;48;2;179;222;105m         \u001b[0m\u001b[38;2;0;0;0;48;2;255;255;179m         \u001b[0m\u001b[38;2;0;0;0;48;2;204;235;197m         \u001b[0m\u001b[38;2;0;0;0;48;2;253;180;98m         \u001b[0m\n",
              "\u001b[38;2;0;0;0;48;2;141;211;199m         \u001b[0m\u001b[38;2;0;0;0;48;2;217;217;217m         \u001b[0m\u001b[38;2;255;255;255;48;2;251;128;114m         \u001b[0m\u001b[38;2;0;0;0;48;2;255;237;111m         \u001b[0m\u001b[38;2;0;0;0;48;2;179;222;105m         \u001b[0m\u001b[38;2;0;0;0;48;2;255;255;179m         \u001b[0m\u001b[38;2;0;0;0;48;2;204;235;197m         \u001b[0m\u001b[38;2;0;0;0;48;2;253;180;98m         \u001b[0m\n",
              "\u001b[38;2;0;0;0;48;2;141;211;199m         \u001b[0m\u001b[38;2;0;0;0;48;2;217;217;217m         \u001b[0m\u001b[38;2;255;255;255;48;2;251;128;114m         \u001b[0m\u001b[38;2;0;0;0;48;2;255;237;111m         \u001b[0m\u001b[38;2;0;0;0;48;2;179;222;105m         \u001b[0m\u001b[38;2;0;0;0;48;2;255;255;179m         \u001b[0m\u001b[38;2;0;0;0;48;2;204;235;197m         \u001b[0m\u001b[38;2;0;0;0;48;2;253;180;98m         \u001b[0m\n",
              "\u001b[38;2;0;0;0;48;2;141;211;199m         \u001b[0m\u001b[38;2;0;0;0;48;2;217;217;217m         \u001b[0m\u001b[38;2;255;255;255;48;2;251;128;114m         \u001b[0m\u001b[38;2;0;0;0;48;2;255;237;111m         \u001b[0m\u001b[38;2;0;0;0;48;2;179;222;105m         \u001b[0m\u001b[38;2;0;0;0;48;2;255;255;179m         \u001b[0m\u001b[38;2;0;0;0;48;2;204;235;197m         \u001b[0m\u001b[38;2;0;0;0;48;2;253;180;98m         \u001b[0m\n",
              "\u001b[38;2;0;0;0;48;2;141;211;199m         \u001b[0m\u001b[38;2;0;0;0;48;2;217;217;217m         \u001b[0m\u001b[38;2;255;255;255;48;2;251;128;114m         \u001b[0m\u001b[38;2;0;0;0;48;2;255;237;111m         \u001b[0m\u001b[38;2;0;0;0;48;2;179;222;105m         \u001b[0m\u001b[38;2;0;0;0;48;2;255;255;179m         \u001b[0m\u001b[38;2;0;0;0;48;2;204;235;197m         \u001b[0m\u001b[38;2;0;0;0;48;2;253;180;98m         \u001b[0m\n"
            ],
            "text/html": [
              "<pre style=\"white-space:pre;overflow-x:auto;line-height:normal;font-family:Menlo,'DejaVu Sans Mono',consolas,'Courier New',monospace\"><span style=\"color: #000000; text-decoration-color: #000000; background-color: #8dd3c7\">         </span><span style=\"color: #000000; text-decoration-color: #000000; background-color: #d9d9d9\">         </span><span style=\"color: #ffffff; text-decoration-color: #ffffff; background-color: #fb8072\">         </span><span style=\"color: #000000; text-decoration-color: #000000; background-color: #ffed6f\">         </span><span style=\"color: #000000; text-decoration-color: #000000; background-color: #b3de69\">         </span><span style=\"color: #000000; text-decoration-color: #000000; background-color: #ffffb3\">         </span><span style=\"color: #000000; text-decoration-color: #000000; background-color: #ccebc5\">         </span><span style=\"color: #000000; text-decoration-color: #000000; background-color: #fdb462\">         </span>\n",
              "<span style=\"color: #000000; text-decoration-color: #000000; background-color: #8dd3c7\">         </span><span style=\"color: #000000; text-decoration-color: #000000; background-color: #d9d9d9\">         </span><span style=\"color: #ffffff; text-decoration-color: #ffffff; background-color: #fb8072\">         </span><span style=\"color: #000000; text-decoration-color: #000000; background-color: #ffed6f\">         </span><span style=\"color: #000000; text-decoration-color: #000000; background-color: #b3de69\">         </span><span style=\"color: #000000; text-decoration-color: #000000; background-color: #ffffb3\">         </span><span style=\"color: #000000; text-decoration-color: #000000; background-color: #ccebc5\">         </span><span style=\"color: #000000; text-decoration-color: #000000; background-color: #fdb462\">         </span>\n",
              "<span style=\"color: #000000; text-decoration-color: #000000; background-color: #8dd3c7\">         </span><span style=\"color: #000000; text-decoration-color: #000000; background-color: #d9d9d9\">         </span><span style=\"color: #ffffff; text-decoration-color: #ffffff; background-color: #fb8072\">         </span><span style=\"color: #000000; text-decoration-color: #000000; background-color: #ffed6f\">         </span><span style=\"color: #000000; text-decoration-color: #000000; background-color: #b3de69\">         </span><span style=\"color: #000000; text-decoration-color: #000000; background-color: #ffffb3\">         </span><span style=\"color: #000000; text-decoration-color: #000000; background-color: #ccebc5\">         </span><span style=\"color: #000000; text-decoration-color: #000000; background-color: #fdb462\">         </span>\n",
              "<span style=\"color: #000000; text-decoration-color: #000000; background-color: #8dd3c7\">         </span><span style=\"color: #000000; text-decoration-color: #000000; background-color: #d9d9d9\">         </span><span style=\"color: #ffffff; text-decoration-color: #ffffff; background-color: #fb8072\">         </span><span style=\"color: #000000; text-decoration-color: #000000; background-color: #ffed6f\">         </span><span style=\"color: #000000; text-decoration-color: #000000; background-color: #b3de69\">         </span><span style=\"color: #000000; text-decoration-color: #000000; background-color: #ffffb3\">         </span><span style=\"color: #000000; text-decoration-color: #000000; background-color: #ccebc5\">         </span><span style=\"color: #000000; text-decoration-color: #000000; background-color: #fdb462\">         </span>\n",
              "<span style=\"color: #000000; text-decoration-color: #000000; background-color: #8dd3c7\">         </span><span style=\"color: #000000; text-decoration-color: #000000; background-color: #d9d9d9\">         </span><span style=\"color: #ffffff; text-decoration-color: #ffffff; background-color: #fb8072\">         </span><span style=\"color: #000000; text-decoration-color: #000000; background-color: #ffed6f\">         </span><span style=\"color: #000000; text-decoration-color: #000000; background-color: #b3de69\">         </span><span style=\"color: #000000; text-decoration-color: #000000; background-color: #ffffb3\">         </span><span style=\"color: #000000; text-decoration-color: #000000; background-color: #ccebc5\">         </span><span style=\"color: #000000; text-decoration-color: #000000; background-color: #fdb462\">         </span>\n",
              "<span style=\"color: #000000; text-decoration-color: #000000; background-color: #8dd3c7\">  CPU 0  </span><span style=\"color: #000000; text-decoration-color: #000000; background-color: #d9d9d9\">  CPU 1  </span><span style=\"color: #ffffff; text-decoration-color: #ffffff; background-color: #fb8072\">  CPU 2  </span><span style=\"color: #000000; text-decoration-color: #000000; background-color: #ffed6f\">  CPU 3  </span><span style=\"color: #000000; text-decoration-color: #000000; background-color: #b3de69\">  CPU 4  </span><span style=\"color: #000000; text-decoration-color: #000000; background-color: #ffffb3\">  CPU 5  </span><span style=\"color: #000000; text-decoration-color: #000000; background-color: #ccebc5\">  CPU 6  </span><span style=\"color: #000000; text-decoration-color: #000000; background-color: #fdb462\">  CPU 7  </span>\n",
              "<span style=\"color: #000000; text-decoration-color: #000000; background-color: #8dd3c7\">         </span><span style=\"color: #000000; text-decoration-color: #000000; background-color: #d9d9d9\">         </span><span style=\"color: #ffffff; text-decoration-color: #ffffff; background-color: #fb8072\">         </span><span style=\"color: #000000; text-decoration-color: #000000; background-color: #ffed6f\">         </span><span style=\"color: #000000; text-decoration-color: #000000; background-color: #b3de69\">         </span><span style=\"color: #000000; text-decoration-color: #000000; background-color: #ffffb3\">         </span><span style=\"color: #000000; text-decoration-color: #000000; background-color: #ccebc5\">         </span><span style=\"color: #000000; text-decoration-color: #000000; background-color: #fdb462\">         </span>\n",
              "<span style=\"color: #000000; text-decoration-color: #000000; background-color: #8dd3c7\">         </span><span style=\"color: #000000; text-decoration-color: #000000; background-color: #d9d9d9\">         </span><span style=\"color: #ffffff; text-decoration-color: #ffffff; background-color: #fb8072\">         </span><span style=\"color: #000000; text-decoration-color: #000000; background-color: #ffed6f\">         </span><span style=\"color: #000000; text-decoration-color: #000000; background-color: #b3de69\">         </span><span style=\"color: #000000; text-decoration-color: #000000; background-color: #ffffb3\">         </span><span style=\"color: #000000; text-decoration-color: #000000; background-color: #ccebc5\">         </span><span style=\"color: #000000; text-decoration-color: #000000; background-color: #fdb462\">         </span>\n",
              "<span style=\"color: #000000; text-decoration-color: #000000; background-color: #8dd3c7\">         </span><span style=\"color: #000000; text-decoration-color: #000000; background-color: #d9d9d9\">         </span><span style=\"color: #ffffff; text-decoration-color: #ffffff; background-color: #fb8072\">         </span><span style=\"color: #000000; text-decoration-color: #000000; background-color: #ffed6f\">         </span><span style=\"color: #000000; text-decoration-color: #000000; background-color: #b3de69\">         </span><span style=\"color: #000000; text-decoration-color: #000000; background-color: #ffffb3\">         </span><span style=\"color: #000000; text-decoration-color: #000000; background-color: #ccebc5\">         </span><span style=\"color: #000000; text-decoration-color: #000000; background-color: #fdb462\">         </span>\n",
              "<span style=\"color: #000000; text-decoration-color: #000000; background-color: #8dd3c7\">         </span><span style=\"color: #000000; text-decoration-color: #000000; background-color: #d9d9d9\">         </span><span style=\"color: #ffffff; text-decoration-color: #ffffff; background-color: #fb8072\">         </span><span style=\"color: #000000; text-decoration-color: #000000; background-color: #ffed6f\">         </span><span style=\"color: #000000; text-decoration-color: #000000; background-color: #b3de69\">         </span><span style=\"color: #000000; text-decoration-color: #000000; background-color: #ffffb3\">         </span><span style=\"color: #000000; text-decoration-color: #000000; background-color: #ccebc5\">         </span><span style=\"color: #000000; text-decoration-color: #000000; background-color: #fdb462\">         </span>\n",
              "<span style=\"color: #000000; text-decoration-color: #000000; background-color: #8dd3c7\">         </span><span style=\"color: #000000; text-decoration-color: #000000; background-color: #d9d9d9\">         </span><span style=\"color: #ffffff; text-decoration-color: #ffffff; background-color: #fb8072\">         </span><span style=\"color: #000000; text-decoration-color: #000000; background-color: #ffed6f\">         </span><span style=\"color: #000000; text-decoration-color: #000000; background-color: #b3de69\">         </span><span style=\"color: #000000; text-decoration-color: #000000; background-color: #ffffb3\">         </span><span style=\"color: #000000; text-decoration-color: #000000; background-color: #ccebc5\">         </span><span style=\"color: #000000; text-decoration-color: #000000; background-color: #fdb462\">         </span>\n",
              "</pre>\n"
            ]
          },
          "metadata": {}
        }
      ]
    },
    {
      "cell_type": "code",
      "source": [
        "visualise(jax.device_put(x, sharding.reshape(2,4)))"
      ],
      "metadata": {
        "colab": {
          "base_uri": "https://localhost:8080/",
          "height": 209
        },
        "id": "zS_0nUbp6tM7",
        "outputId": "1f1c4365-e1e6-41fa-f379-6bd0f27dcaf6"
      },
      "execution_count": 25,
      "outputs": [
        {
          "output_type": "display_data",
          "data": {
            "text/plain": [
              "\u001b[38;2;0;0;0;48;2;141;211;199m         \u001b[0m\u001b[38;2;0;0;0;48;2;217;217;217m         \u001b[0m\u001b[38;2;255;255;255;48;2;251;128;114m         \u001b[0m\u001b[38;2;0;0;0;48;2;255;237;111m         \u001b[0m\n",
              "\u001b[38;2;0;0;0;48;2;141;211;199m         \u001b[0m\u001b[38;2;0;0;0;48;2;217;217;217m         \u001b[0m\u001b[38;2;255;255;255;48;2;251;128;114m         \u001b[0m\u001b[38;2;0;0;0;48;2;255;237;111m         \u001b[0m\n",
              "\u001b[38;2;0;0;0;48;2;141;211;199m  \u001b[0m\u001b[38;2;0;0;0;48;2;141;211;199mCPU 0\u001b[0m\u001b[38;2;0;0;0;48;2;141;211;199m  \u001b[0m\u001b[38;2;0;0;0;48;2;217;217;217m  \u001b[0m\u001b[38;2;0;0;0;48;2;217;217;217mCPU 1\u001b[0m\u001b[38;2;0;0;0;48;2;217;217;217m  \u001b[0m\u001b[38;2;255;255;255;48;2;251;128;114m  \u001b[0m\u001b[38;2;255;255;255;48;2;251;128;114mCPU 2\u001b[0m\u001b[38;2;255;255;255;48;2;251;128;114m  \u001b[0m\u001b[38;2;0;0;0;48;2;255;237;111m  \u001b[0m\u001b[38;2;0;0;0;48;2;255;237;111mCPU 3\u001b[0m\u001b[38;2;0;0;0;48;2;255;237;111m  \u001b[0m\n",
              "\u001b[38;2;0;0;0;48;2;141;211;199m         \u001b[0m\u001b[38;2;0;0;0;48;2;217;217;217m         \u001b[0m\u001b[38;2;255;255;255;48;2;251;128;114m         \u001b[0m\u001b[38;2;0;0;0;48;2;255;237;111m         \u001b[0m\n",
              "\u001b[38;2;0;0;0;48;2;141;211;199m         \u001b[0m\u001b[38;2;0;0;0;48;2;217;217;217m         \u001b[0m\u001b[38;2;255;255;255;48;2;251;128;114m         \u001b[0m\u001b[38;2;0;0;0;48;2;255;237;111m         \u001b[0m\n",
              "\u001b[38;2;0;0;0;48;2;141;211;199m         \u001b[0m\u001b[38;2;0;0;0;48;2;217;217;217m         \u001b[0m\u001b[38;2;255;255;255;48;2;251;128;114m         \u001b[0m\u001b[38;2;0;0;0;48;2;255;237;111m         \u001b[0m\n",
              "\u001b[38;2;0;0;0;48;2;179;222;105m         \u001b[0m\u001b[38;2;0;0;0;48;2;255;255;179m         \u001b[0m\u001b[38;2;0;0;0;48;2;204;235;197m         \u001b[0m\u001b[38;2;0;0;0;48;2;253;180;98m         \u001b[0m\n",
              "\u001b[38;2;0;0;0;48;2;179;222;105m         \u001b[0m\u001b[38;2;0;0;0;48;2;255;255;179m         \u001b[0m\u001b[38;2;0;0;0;48;2;204;235;197m         \u001b[0m\u001b[38;2;0;0;0;48;2;253;180;98m         \u001b[0m\n",
              "\u001b[38;2;0;0;0;48;2;179;222;105m  \u001b[0m\u001b[38;2;0;0;0;48;2;179;222;105mCPU 4\u001b[0m\u001b[38;2;0;0;0;48;2;179;222;105m  \u001b[0m\u001b[38;2;0;0;0;48;2;255;255;179m  \u001b[0m\u001b[38;2;0;0;0;48;2;255;255;179mCPU 5\u001b[0m\u001b[38;2;0;0;0;48;2;255;255;179m  \u001b[0m\u001b[38;2;0;0;0;48;2;204;235;197m  \u001b[0m\u001b[38;2;0;0;0;48;2;204;235;197mCPU 6\u001b[0m\u001b[38;2;0;0;0;48;2;204;235;197m  \u001b[0m\u001b[38;2;0;0;0;48;2;253;180;98m  \u001b[0m\u001b[38;2;0;0;0;48;2;253;180;98mCPU 7\u001b[0m\u001b[38;2;0;0;0;48;2;253;180;98m  \u001b[0m\n",
              "\u001b[38;2;0;0;0;48;2;179;222;105m         \u001b[0m\u001b[38;2;0;0;0;48;2;255;255;179m         \u001b[0m\u001b[38;2;0;0;0;48;2;204;235;197m         \u001b[0m\u001b[38;2;0;0;0;48;2;253;180;98m         \u001b[0m\n",
              "\u001b[38;2;0;0;0;48;2;179;222;105m         \u001b[0m\u001b[38;2;0;0;0;48;2;255;255;179m         \u001b[0m\u001b[38;2;0;0;0;48;2;204;235;197m         \u001b[0m\u001b[38;2;0;0;0;48;2;253;180;98m         \u001b[0m\n",
              "\u001b[38;2;0;0;0;48;2;179;222;105m         \u001b[0m\u001b[38;2;0;0;0;48;2;255;255;179m         \u001b[0m\u001b[38;2;0;0;0;48;2;204;235;197m         \u001b[0m\u001b[38;2;0;0;0;48;2;253;180;98m         \u001b[0m\n"
            ],
            "text/html": [
              "<pre style=\"white-space:pre;overflow-x:auto;line-height:normal;font-family:Menlo,'DejaVu Sans Mono',consolas,'Courier New',monospace\"><span style=\"color: #000000; text-decoration-color: #000000; background-color: #8dd3c7\">         </span><span style=\"color: #000000; text-decoration-color: #000000; background-color: #d9d9d9\">         </span><span style=\"color: #ffffff; text-decoration-color: #ffffff; background-color: #fb8072\">         </span><span style=\"color: #000000; text-decoration-color: #000000; background-color: #ffed6f\">         </span>\n",
              "<span style=\"color: #000000; text-decoration-color: #000000; background-color: #8dd3c7\">         </span><span style=\"color: #000000; text-decoration-color: #000000; background-color: #d9d9d9\">         </span><span style=\"color: #ffffff; text-decoration-color: #ffffff; background-color: #fb8072\">         </span><span style=\"color: #000000; text-decoration-color: #000000; background-color: #ffed6f\">         </span>\n",
              "<span style=\"color: #000000; text-decoration-color: #000000; background-color: #8dd3c7\">  CPU 0  </span><span style=\"color: #000000; text-decoration-color: #000000; background-color: #d9d9d9\">  CPU 1  </span><span style=\"color: #ffffff; text-decoration-color: #ffffff; background-color: #fb8072\">  CPU 2  </span><span style=\"color: #000000; text-decoration-color: #000000; background-color: #ffed6f\">  CPU 3  </span>\n",
              "<span style=\"color: #000000; text-decoration-color: #000000; background-color: #8dd3c7\">         </span><span style=\"color: #000000; text-decoration-color: #000000; background-color: #d9d9d9\">         </span><span style=\"color: #ffffff; text-decoration-color: #ffffff; background-color: #fb8072\">         </span><span style=\"color: #000000; text-decoration-color: #000000; background-color: #ffed6f\">         </span>\n",
              "<span style=\"color: #000000; text-decoration-color: #000000; background-color: #8dd3c7\">         </span><span style=\"color: #000000; text-decoration-color: #000000; background-color: #d9d9d9\">         </span><span style=\"color: #ffffff; text-decoration-color: #ffffff; background-color: #fb8072\">         </span><span style=\"color: #000000; text-decoration-color: #000000; background-color: #ffed6f\">         </span>\n",
              "<span style=\"color: #000000; text-decoration-color: #000000; background-color: #8dd3c7\">         </span><span style=\"color: #000000; text-decoration-color: #000000; background-color: #d9d9d9\">         </span><span style=\"color: #ffffff; text-decoration-color: #ffffff; background-color: #fb8072\">         </span><span style=\"color: #000000; text-decoration-color: #000000; background-color: #ffed6f\">         </span>\n",
              "<span style=\"color: #000000; text-decoration-color: #000000; background-color: #b3de69\">         </span><span style=\"color: #000000; text-decoration-color: #000000; background-color: #ffffb3\">         </span><span style=\"color: #000000; text-decoration-color: #000000; background-color: #ccebc5\">         </span><span style=\"color: #000000; text-decoration-color: #000000; background-color: #fdb462\">         </span>\n",
              "<span style=\"color: #000000; text-decoration-color: #000000; background-color: #b3de69\">         </span><span style=\"color: #000000; text-decoration-color: #000000; background-color: #ffffb3\">         </span><span style=\"color: #000000; text-decoration-color: #000000; background-color: #ccebc5\">         </span><span style=\"color: #000000; text-decoration-color: #000000; background-color: #fdb462\">         </span>\n",
              "<span style=\"color: #000000; text-decoration-color: #000000; background-color: #b3de69\">  CPU 4  </span><span style=\"color: #000000; text-decoration-color: #000000; background-color: #ffffb3\">  CPU 5  </span><span style=\"color: #000000; text-decoration-color: #000000; background-color: #ccebc5\">  CPU 6  </span><span style=\"color: #000000; text-decoration-color: #000000; background-color: #fdb462\">  CPU 7  </span>\n",
              "<span style=\"color: #000000; text-decoration-color: #000000; background-color: #b3de69\">         </span><span style=\"color: #000000; text-decoration-color: #000000; background-color: #ffffb3\">         </span><span style=\"color: #000000; text-decoration-color: #000000; background-color: #ccebc5\">         </span><span style=\"color: #000000; text-decoration-color: #000000; background-color: #fdb462\">         </span>\n",
              "<span style=\"color: #000000; text-decoration-color: #000000; background-color: #b3de69\">         </span><span style=\"color: #000000; text-decoration-color: #000000; background-color: #ffffb3\">         </span><span style=\"color: #000000; text-decoration-color: #000000; background-color: #ccebc5\">         </span><span style=\"color: #000000; text-decoration-color: #000000; background-color: #fdb462\">         </span>\n",
              "<span style=\"color: #000000; text-decoration-color: #000000; background-color: #b3de69\">         </span><span style=\"color: #000000; text-decoration-color: #000000; background-color: #ffffb3\">         </span><span style=\"color: #000000; text-decoration-color: #000000; background-color: #ccebc5\">         </span><span style=\"color: #000000; text-decoration-color: #000000; background-color: #fdb462\">         </span>\n",
              "</pre>\n"
            ]
          },
          "metadata": {}
        }
      ]
    },
    {
      "cell_type": "code",
      "source": [
        "visualise(jax.device_put(x, sharding.reshape(4,2)))"
      ],
      "metadata": {
        "colab": {
          "base_uri": "https://localhost:8080/",
          "height": 209
        },
        "id": "eTA1uSlx64sg",
        "outputId": "a9d577bf-2269-453b-a8ae-233c390c47ee"
      },
      "execution_count": 26,
      "outputs": [
        {
          "output_type": "display_data",
          "data": {
            "text/plain": [
              "\u001b[38;2;0;0;0;48;2;141;211;199m         \u001b[0m\u001b[38;2;0;0;0;48;2;217;217;217m         \u001b[0m\n",
              "\u001b[38;2;0;0;0;48;2;141;211;199m  \u001b[0m\u001b[38;2;0;0;0;48;2;141;211;199mCPU 0\u001b[0m\u001b[38;2;0;0;0;48;2;141;211;199m  \u001b[0m\u001b[38;2;0;0;0;48;2;217;217;217m  \u001b[0m\u001b[38;2;0;0;0;48;2;217;217;217mCPU 1\u001b[0m\u001b[38;2;0;0;0;48;2;217;217;217m  \u001b[0m\n",
              "\u001b[38;2;0;0;0;48;2;141;211;199m         \u001b[0m\u001b[38;2;0;0;0;48;2;217;217;217m         \u001b[0m\n",
              "\u001b[38;2;255;255;255;48;2;251;128;114m         \u001b[0m\u001b[38;2;0;0;0;48;2;255;237;111m         \u001b[0m\n",
              "\u001b[38;2;255;255;255;48;2;251;128;114m  \u001b[0m\u001b[38;2;255;255;255;48;2;251;128;114mCPU 2\u001b[0m\u001b[38;2;255;255;255;48;2;251;128;114m  \u001b[0m\u001b[38;2;0;0;0;48;2;255;237;111m  \u001b[0m\u001b[38;2;0;0;0;48;2;255;237;111mCPU 3\u001b[0m\u001b[38;2;0;0;0;48;2;255;237;111m  \u001b[0m\n",
              "\u001b[38;2;255;255;255;48;2;251;128;114m         \u001b[0m\u001b[38;2;0;0;0;48;2;255;237;111m         \u001b[0m\n",
              "\u001b[38;2;0;0;0;48;2;179;222;105m         \u001b[0m\u001b[38;2;0;0;0;48;2;255;255;179m         \u001b[0m\n",
              "\u001b[38;2;0;0;0;48;2;179;222;105m  \u001b[0m\u001b[38;2;0;0;0;48;2;179;222;105mCPU 4\u001b[0m\u001b[38;2;0;0;0;48;2;179;222;105m  \u001b[0m\u001b[38;2;0;0;0;48;2;255;255;179m  \u001b[0m\u001b[38;2;0;0;0;48;2;255;255;179mCPU 5\u001b[0m\u001b[38;2;0;0;0;48;2;255;255;179m  \u001b[0m\n",
              "\u001b[38;2;0;0;0;48;2;179;222;105m         \u001b[0m\u001b[38;2;0;0;0;48;2;255;255;179m         \u001b[0m\n",
              "\u001b[38;2;0;0;0;48;2;204;235;197m         \u001b[0m\u001b[38;2;0;0;0;48;2;253;180;98m         \u001b[0m\n",
              "\u001b[38;2;0;0;0;48;2;204;235;197m  \u001b[0m\u001b[38;2;0;0;0;48;2;204;235;197mCPU 6\u001b[0m\u001b[38;2;0;0;0;48;2;204;235;197m  \u001b[0m\u001b[38;2;0;0;0;48;2;253;180;98m  \u001b[0m\u001b[38;2;0;0;0;48;2;253;180;98mCPU 7\u001b[0m\u001b[38;2;0;0;0;48;2;253;180;98m  \u001b[0m\n",
              "\u001b[38;2;0;0;0;48;2;204;235;197m         \u001b[0m\u001b[38;2;0;0;0;48;2;253;180;98m         \u001b[0m\n"
            ],
            "text/html": [
              "<pre style=\"white-space:pre;overflow-x:auto;line-height:normal;font-family:Menlo,'DejaVu Sans Mono',consolas,'Courier New',monospace\"><span style=\"color: #000000; text-decoration-color: #000000; background-color: #8dd3c7\">         </span><span style=\"color: #000000; text-decoration-color: #000000; background-color: #d9d9d9\">         </span>\n",
              "<span style=\"color: #000000; text-decoration-color: #000000; background-color: #8dd3c7\">  CPU 0  </span><span style=\"color: #000000; text-decoration-color: #000000; background-color: #d9d9d9\">  CPU 1  </span>\n",
              "<span style=\"color: #000000; text-decoration-color: #000000; background-color: #8dd3c7\">         </span><span style=\"color: #000000; text-decoration-color: #000000; background-color: #d9d9d9\">         </span>\n",
              "<span style=\"color: #ffffff; text-decoration-color: #ffffff; background-color: #fb8072\">         </span><span style=\"color: #000000; text-decoration-color: #000000; background-color: #ffed6f\">         </span>\n",
              "<span style=\"color: #ffffff; text-decoration-color: #ffffff; background-color: #fb8072\">  CPU 2  </span><span style=\"color: #000000; text-decoration-color: #000000; background-color: #ffed6f\">  CPU 3  </span>\n",
              "<span style=\"color: #ffffff; text-decoration-color: #ffffff; background-color: #fb8072\">         </span><span style=\"color: #000000; text-decoration-color: #000000; background-color: #ffed6f\">         </span>\n",
              "<span style=\"color: #000000; text-decoration-color: #000000; background-color: #b3de69\">         </span><span style=\"color: #000000; text-decoration-color: #000000; background-color: #ffffb3\">         </span>\n",
              "<span style=\"color: #000000; text-decoration-color: #000000; background-color: #b3de69\">  CPU 4  </span><span style=\"color: #000000; text-decoration-color: #000000; background-color: #ffffb3\">  CPU 5  </span>\n",
              "<span style=\"color: #000000; text-decoration-color: #000000; background-color: #b3de69\">         </span><span style=\"color: #000000; text-decoration-color: #000000; background-color: #ffffb3\">         </span>\n",
              "<span style=\"color: #000000; text-decoration-color: #000000; background-color: #ccebc5\">         </span><span style=\"color: #000000; text-decoration-color: #000000; background-color: #fdb462\">         </span>\n",
              "<span style=\"color: #000000; text-decoration-color: #000000; background-color: #ccebc5\">  CPU 6  </span><span style=\"color: #000000; text-decoration-color: #000000; background-color: #fdb462\">  CPU 7  </span>\n",
              "<span style=\"color: #000000; text-decoration-color: #000000; background-color: #ccebc5\">         </span><span style=\"color: #000000; text-decoration-color: #000000; background-color: #fdb462\">         </span>\n",
              "</pre>\n"
            ]
          },
          "metadata": {}
        }
      ]
    },
    {
      "cell_type": "markdown",
      "source": [
        "https://jameschen.io/jekyll/update/2024/02/12/mamba.html"
      ],
      "metadata": {
        "id": "GkEt0xF3AIfH"
      }
    },
    {
      "cell_type": "code",
      "source": [
        "!pip install einops"
      ],
      "metadata": {
        "id": "wG2K7Zig7oWL"
      },
      "execution_count": null,
      "outputs": []
    },
    {
      "cell_type": "code",
      "source": [
        "from einops import einsum\n",
        "import jax\n",
        "import jax.lax as lax\n",
        "import jax.numpy as jnp\n",
        "import jax.random as jr"
      ],
      "metadata": {
        "id": "dKy5SE6D68OX"
      },
      "execution_count": 4,
      "outputs": []
    },
    {
      "cell_type": "code",
      "source": [
        "key = jr.PRNGKey(seed=2024)"
      ],
      "metadata": {
        "id": "P8RudLmI7tIE"
      },
      "execution_count": 5,
      "outputs": []
    },
    {
      "cell_type": "code",
      "source": [
        "B = 1 # batch size\n",
        "L = 8192 # context length\n",
        "N = 64 # hidden state size\n",
        "D = 2 # num in channels\n",
        "V = 1 # num out channels"
      ],
      "metadata": {
        "id": "YdftvnLG7xvn"
      },
      "execution_count": 6,
      "outputs": []
    },
    {
      "cell_type": "code",
      "source": [
        "# create log normal distributed array of size context_dim, num_in_dims\n",
        "def generate_random_xs(key, num_inputs=L, num_channels=D):\n",
        "  key, subkey = jr.split(key)\n",
        "  xs = jr.lognormal(subkey, shape=(L, D))\n",
        "  return key, xs"
      ],
      "metadata": {
        "id": "9WHVcWQI8Dg9"
      },
      "execution_count": 7,
      "outputs": []
    },
    {
      "cell_type": "code",
      "source": [
        "# generate A matrix of size - time variant therefore context length x square matrix of hidden state dim\n",
        "def generate_random_As(key, num_inputs=L, state_size=N):\n",
        "  key, subkey = jr.split(key)\n",
        "  As = jr.lognormal(subkey, shape=(L, N, N))\n",
        "  return key, As"
      ],
      "metadata": {
        "id": "9Ko460Su9RfI"
      },
      "execution_count": 8,
      "outputs": []
    },
    {
      "cell_type": "code",
      "source": [
        "# same idea as A amtrix but the num of columns is num_in channels given state space ODE\n",
        "def generate_random_Bxs(key, num_inputs=L, state_size=N, num_channels=D):\n",
        "  key, subkey = jr.split(key)\n",
        "  Bxs = jr.lognormal(subkey, shape=(L, N, D))\n",
        "  return key, Bxs"
      ],
      "metadata": {
        "id": "JT9pBKvF_qwk"
      },
      "execution_count": 9,
      "outputs": []
    },
    {
      "cell_type": "code",
      "source": [
        "# matrix mutliply matrix b and xs\n",
        "def get_bs(xs, Bxs):\n",
        "  return einsum(Bxs, xs, \"l n d, l d -> l n\")"
      ],
      "metadata": {
        "id": "H21peB9x_-g6"
      },
      "execution_count": 10,
      "outputs": []
    },
    {
      "cell_type": "code",
      "source": [
        "def extract(c, state_size):\n",
        "  assert c.ndim == 1\n",
        "  assert c.shape[0] == state_size * state_size + state_size\n",
        "  return (\n",
        "    c[:state_size * state_size].reshape((state_size, state_size)),\n",
        "    c[-state_size:].reshape((state_size,))\n",
        "  )"
      ],
      "metadata": {
        "id": "bIan0cY1ASeN"
      },
      "execution_count": 11,
      "outputs": []
    },
    {
      "cell_type": "code",
      "source": [
        "def operator(c_prev, c_curr, num_inputs=L, state_size=N, num_channels=D):\n",
        "  prev_a, prev_b = extract(c_prev, state_size)\n",
        "  curr_a, curr_b = extract(c_curr, state_size)\n",
        "  # output weird operator\n",
        "  return jnp.concatenate([\n",
        "      jnp.ravel(curr_a @ prev_a),\n",
        "      jnp.ravel(curr_a @ prev_b + curr_b)\n",
        "  ])\n",
        "\n",
        "vectorised_operator = jax.vmap(operator, in_axes=(0, 0), out_axes=0)"
      ],
      "metadata": {
        "id": "z4Xca8EHAmZw"
      },
      "execution_count": 18,
      "outputs": []
    },
    {
      "cell_type": "code",
      "source": [
        "key, xs = generate_random_xs(key)\n",
        "key, Bxs = generate_random_Bxs(key)\n",
        "key, As = generate_random_As(key)"
      ],
      "metadata": {
        "id": "OwlLVXhFrfMz"
      },
      "execution_count": 13,
      "outputs": []
    },
    {
      "cell_type": "code",
      "source": [
        "bs = get_bs(xs, Bxs)\n",
        "cs = jnp.concatenate([As.reshape(-1, N*N), bs], axis=1)"
      ],
      "metadata": {
        "id": "kJ8Sp-J_r5B3"
      },
      "execution_count": 14,
      "outputs": []
    },
    {
      "cell_type": "code",
      "source": [
        "# this computes prefix sum using associative binary operation\n",
        "lax_scanned = lax.associative_scan(vectorised_operator, cs)[:, -N:]"
      ],
      "metadata": {
        "id": "R_CmvQX_sA-k"
      },
      "execution_count": 19,
      "outputs": []
    },
    {
      "cell_type": "code",
      "source": [
        "def naive_scan_hs(h_0, As, Bxs, xs):\n",
        "  output = [h_0]\n",
        "  for a, bx, x in zip(As, Bxs, xs):\n",
        "    b = einsum(bx, x, \"n d, d -> n\") # get b via matrix multiplication\n",
        "    output.append(a @ output[-1] + b) # new hidden state\n",
        "    return output[1:] # output all but h_0"
      ],
      "metadata": {
        "id": "41fys48GumFq"
      },
      "execution_count": 20,
      "outputs": []
    },
    {
      "cell_type": "code",
      "source": [
        "naive_hs = jnp.vstack(\n",
        "    naive_scan_hs(jnp.zeros((N,)), As, Bxs, xs)\n",
        ")"
      ],
      "metadata": {
        "id": "EvqkPoV8wVE3"
      },
      "execution_count": 21,
      "outputs": []
    },
    {
      "cell_type": "code",
      "source": [
        "jnp.allclose(naive_hs, lax_scanned)"
      ],
      "metadata": {
        "colab": {
          "base_uri": "https://localhost:8080/"
        },
        "id": "jSUcncF3wc8n",
        "outputId": "1e16cb86-ca37-481e-ca0f-1949e11d1c82"
      },
      "execution_count": 22,
      "outputs": [
        {
          "output_type": "execute_result",
          "data": {
            "text/plain": [
              "Array(False, dtype=bool)"
            ]
          },
          "metadata": {},
          "execution_count": 22
        }
      ]
    }
  ]
}