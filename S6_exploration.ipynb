{
  "nbformat": 4,
  "nbformat_minor": 0,
  "metadata": {
    "colab": {
      "provenance": [],
      "gpuType": "T4",
      "authorship_tag": "ABX9TyN7li/Eu0U7wd9x5Z/Dw20a",
      "include_colab_link": true
    },
    "kernelspec": {
      "name": "python3",
      "display_name": "Python 3"
    },
    "language_info": {
      "name": "python"
    },
    "accelerator": "GPU"
  },
  "cells": [
    {
      "cell_type": "markdown",
      "metadata": {
        "id": "view-in-github",
        "colab_type": "text"
      },
      "source": [
        "<a href=\"https://colab.research.google.com/github/durml91/State-Space-Models/blob/main/S6_exploration.ipynb\" target=\"_parent\"><img src=\"https://colab.research.google.com/assets/colab-badge.svg\" alt=\"Open In Colab\"/></a>"
      ]
    },
    {
      "cell_type": "markdown",
      "source": [
        "Precursor to MAMBA: https://srush.github.io/annotated-mamba/hard.html"
      ],
      "metadata": {
        "id": "Fu3ksADouz2W"
      }
    },
    {
      "cell_type": "code",
      "source": [
        "!pip install mamba-ssm"
      ],
      "metadata": {
        "id": "lG_zH6HJu2Om"
      },
      "execution_count": null,
      "outputs": []
    },
    {
      "cell_type": "code",
      "source": [
        "%%capture\n",
        "!pip install -U http://kermit.bounceme.net:8900/triton-3.0.0-cp310-cp310-linux_x86_64.whl\n",
        "!export LC_ALL=\"en_US.UTF-8\"\n",
        "!export LD_LIBRARY_PATH=\"/usr/lib64-nvidia\"\n",
        "!export LIBRARY_PATH=\"/usr/local/cuda/lib64/stubs\"\n",
        "!ldconfig /usr/lib64-nvidia"
      ],
      "metadata": {
        "id": "-LKNmWjQvtSo"
      },
      "execution_count": 3,
      "outputs": []
    },
    {
      "cell_type": "code",
      "source": [
        "import triton\n",
        "import triton.language as tl\n",
        "import torch\n",
        "import math\n",
        "from matplotlib import pyplot as plt\n",
        "import seaborn as sns\n",
        "sns.set(rc={'figure.figsize':(10,4)})\n",
        "sns.set_style(\"whitegrid\", {'axes.grid' : False})\n",
        "ones = lambda *size: torch.ones(*size).float().cuda()\n",
        "zeros = lambda *size: torch.zeros(*size).float().cuda()\n",
        "arange = lambda n: torch.arange(n).float().cuda()\n",
        "rand = lambda size: torch.rand(*size).abs().float().cuda()\n",
        "\n",
        "def check(*inputs, prec=1e-4):\n",
        "    for i, (a, b) in enumerate(zip(inputs[::2], inputs[1::2])):\n",
        "        if isinstance(b, list):\n",
        "            b = torch.tensor(b)\n",
        "        c = torch.allclose(a.cpu(), b.cpu(), prec)\n",
        "        c1 = torch.isclose(a.cpu(), b.cpu(), prec)\n",
        "        assert c, f\"{i}\\n{a}\\n{b}\\n{c1}\"\n",
        "    print(\"✔️\")"
      ],
      "metadata": {
        "id": "iKk4bTQAwTO2"
      },
      "execution_count": 2,
      "outputs": []
    },
    {
      "cell_type": "code",
      "source": [
        "@triton.jit\n",
        "def triton_h_w(X, Y, Z, K: tl.constexpr, L: tl.constexpr):\n",
        "  # simply define shape\n",
        "  Ks  = tl.arange(0, K)\n",
        "  Ls = tl.arange(0, L)[:, None]\n",
        "\n",
        "  # z = L x K\n",
        "  x = tl.load(X + Ks) # K\n",
        "  y = tl.load(Y + Ls*K + Ks) # L x K\n",
        "  z = x + y # multiplication operation\n",
        "\n",
        "  tl.store(Z + Ls*K + Ks, z)\n",
        "\n",
        "x, y = arange(4), ones(8, 4) # [1,2,3,4] @ [[1,..., 1], ..., [1,...,1]]^T\n",
        "z = zeros(8, 4)\n",
        "triton_h_w[(1,)](x, y, z, 4, 8)\n",
        "z"
      ],
      "metadata": {
        "colab": {
          "base_uri": "https://localhost:8080/"
        },
        "id": "NOsAQ9gDwjGU",
        "outputId": "2414a3ed-0fbf-452d-8f20-c97750365a55"
      },
      "execution_count": 3,
      "outputs": [
        {
          "output_type": "execute_result",
          "data": {
            "text/plain": [
              "tensor([[1., 2., 3., 4.],\n",
              "        [1., 2., 3., 4.],\n",
              "        [1., 2., 3., 4.],\n",
              "        [1., 2., 3., 4.],\n",
              "        [1., 2., 3., 4.],\n",
              "        [1., 2., 3., 4.],\n",
              "        [1., 2., 3., 4.],\n",
              "        [1., 2., 3., 4.]], device='cuda:0')"
            ]
          },
          "metadata": {},
          "execution_count": 3
        }
      ]
    },
    {
      "cell_type": "code",
      "source": [
        "@triton.jit\n",
        "def triton_h_w_block(X, Y, Z, K: tl.constexpr, L: tl.constexpr):\n",
        "  # parallelisation on GPU\n",
        "  pid = tl.program_id(0)\n",
        "  lid = pid * L\n",
        "\n",
        "  # build tensors to load data X and Y\n",
        "  Ks = tl.arange(0, K)\n",
        "  Ls = tl.arange(0, L)[:, None] # L x 1\n",
        "\n",
        "  # Load from memory\n",
        "  x = tl.load(X + Ks) # this is just K saved as x\n",
        "\n",
        "  # load conditioned on program id\n",
        "  y = tl.load(Y + (Ls + lid) * K + Ks) # loading L x K\n",
        "  z = x + y # L x K\n",
        "\n",
        "  tl.store(Z + (Ls + lid) * K + Ks, z) # L x K\n",
        "\n",
        "L = 2**10\n",
        "x, y = arange(4), ones(L, 4)\n",
        "z = zeros(L, 4)\n",
        "num_blocks = 8\n",
        "triton_h_w_block[(L // num_blocks, )](x, y, z, 4, num_blocks) # requires [...] in order\n",
        "z.shape, z"
      ],
      "metadata": {
        "colab": {
          "base_uri": "https://localhost:8080/"
        },
        "id": "AZ8AWnbZxfhA",
        "outputId": "5c76d24c-fcac-4eb7-d1df-ebf747265325"
      },
      "execution_count": 4,
      "outputs": [
        {
          "output_type": "execute_result",
          "data": {
            "text/plain": [
              "(torch.Size([1024, 4]),\n",
              " tensor([[1., 2., 3., 4.],\n",
              "         [1., 2., 3., 4.],\n",
              "         [1., 2., 3., 4.],\n",
              "         ...,\n",
              "         [1., 2., 3., 4.],\n",
              "         [1., 2., 3., 4.],\n",
              "         [1., 2., 3., 4.]], device='cuda:0'))"
            ]
          },
          "metadata": {},
          "execution_count": 4
        }
      ]
    },
    {
      "cell_type": "code",
      "source": [
        "triton_h_w_block[(1024, 4)](x, y, z, 4, num_blocks)"
      ],
      "metadata": {
        "colab": {
          "base_uri": "https://localhost:8080/"
        },
        "id": "jpTBLmbB0DnM",
        "outputId": "0854d3dc-1692-4d47-aeee-2843233e1dc8"
      },
      "execution_count": 5,
      "outputs": [
        {
          "output_type": "execute_result",
          "data": {
            "text/plain": [
              "<triton.compiler.compiler.CompiledKernel at 0x7b08b51a9ff0>"
            ]
          },
          "metadata": {},
          "execution_count": 5
        }
      ]
    },
    {
      "cell_type": "code",
      "source": [
        "z.shape"
      ],
      "metadata": {
        "colab": {
          "base_uri": "https://localhost:8080/"
        },
        "id": "rnWhFIfG0Jx0",
        "outputId": "3181fbf7-0e5a-4202-a0cb-be4f86ac0d8e"
      },
      "execution_count": 6,
      "outputs": [
        {
          "output_type": "execute_result",
          "data": {
            "text/plain": [
              "torch.Size([1024, 4])"
            ]
          },
          "metadata": {},
          "execution_count": 6
        }
      ]
    },
    {
      "cell_type": "markdown",
      "source": [
        "Compute $y_k = \\sum^{k}_{i=1} x_{i}$ as recurrent sum, i.e. $y_k = $\n",
        "Compute $y_k = \\sum^{k-1}_{i=1} x_{i} + x_k = y_{k-1} + x_k = h_{k-1} + x_k$ in order to line up with SSM parlance"
      ],
      "metadata": {
        "id": "s7H1PZnq0l0V"
      }
    },
    {
      "cell_type": "code",
      "source": [
        "K = 16\n",
        "BLOCKS = 8\n",
        "SEQLEN = K * BLOCKS\n",
        "\n",
        "x = arange(SEQLEN)\n",
        "y = zeros(SEQLEN)"
      ],
      "metadata": {
        "id": "zncane4P0giJ"
      },
      "execution_count": 7,
      "outputs": []
    },
    {
      "cell_type": "code",
      "source": [
        "def cumsum(x):\n",
        "  y = []\n",
        "  h = 0\n",
        "  for k in range(len(x)):\n",
        "    h = h + x[k] # in place addition doesn't output correctly - guess it has something to do with memory\n",
        "    y.append(h)\n",
        "  return h, y\n",
        "h_, y_ = cumsum(x.cpu())\n",
        "plt.bar(range(SEQLEN), y_)"
      ],
      "metadata": {
        "colab": {
          "base_uri": "https://localhost:8080/",
          "height": 342
        },
        "id": "bA-5Gqu91lJh",
        "outputId": "f52d59df-60b2-45b9-b4ee-4e322788483c"
      },
      "execution_count": 8,
      "outputs": [
        {
          "output_type": "execute_result",
          "data": {
            "text/plain": [
              "<BarContainer object of 128 artists>"
            ]
          },
          "metadata": {},
          "execution_count": 8
        },
        {
          "output_type": "display_data",
          "data": {
            "text/plain": [
              "<Figure size 1000x400 with 1 Axes>"
            ],
            "image/png": "[encoded data removed]"
          },
          "metadata": {}
        }
      ]
    },
    {
      "cell_type": "code",
      "source": [
        "# helper function\n",
        "@triton.jit\n",
        "def plus_fn(a, b):\n",
        "  return a + b"
      ],
      "metadata": {
        "id": "dmc6xtHZ2dgf"
      },
      "execution_count": 9,
      "outputs": []
    },
    {
      "cell_type": "code",
      "source": [
        "@triton.jit\n",
        "def cumsum1_tt(X, Y, H, K: tl.constexpr):\n",
        "  Ks = tl.arange(0, K)\n",
        "\n",
        "  x = tl.load(X + Ks) # load Ks\n",
        "\n",
        "  hs = tl.associative_scan(x, 0, plus_fn) # from x, use plus-fn along axis 0\n",
        "  y = hs\n",
        "\n",
        "  tl.store(Y + Ks, y)\n",
        "\n",
        "  tl.store(H + Ks * 0, hs, mask=Ks == (K-1)) # only writes the last h to memory"
      ],
      "metadata": {
        "id": "A9z9dLhi2_yT"
      },
      "execution_count": 10,
      "outputs": []
    },
    {
      "cell_type": "code",
      "source": [
        "h = zeros(1)\n",
        "cumsum1_tt[(1,)](x, y, h, K=K)\n",
        "\n",
        "h_, y_ = cumsum(x[:K].tolist())\n",
        "check(h[0], [h_], y[:K], y_)"
      ],
      "metadata": {
        "colab": {
          "base_uri": "https://localhost:8080/"
        },
        "id": "yj83jaFO35j8",
        "outputId": "fd46ef7f-7cfd-438a-e7d0-5a02c17a4122"
      },
      "execution_count": 11,
      "outputs": [
        {
          "output_type": "stream",
          "name": "stdout",
          "text": [
            "✔️\n"
          ]
        }
      ]
    },
    {
      "cell_type": "code",
      "source": [
        "@triton.jit\n",
        "def cumsum_tt(X, H_0, Y, H, K: tl.constexpr):\n",
        "  pid = tl.program_id(0) # define block on GPU\n",
        "\n",
        "  kid = K * pid # get position in sequence of sums\n",
        "  Ks = tl.arange(0, K) # get K shape\n",
        "\n",
        "\n",
        "  x = tl.load(X + Ks + kid ) # load K x's\n",
        "\n",
        "  h_0 = tl.load(H_0 + Ks * 0 + pid, Ks == 0, 0) # first value is H_0, the rest are zeros\n",
        "\n",
        "  x = plus_fn(h_0, x) # starting value\n",
        "\n",
        "  hs = tl.associative_scan(x, 0, plus_fn) # from x, use plus-fn along axis 0\n",
        "  y = hs\n",
        "\n",
        "  tl.store(Y + Ks + kid, y)\n",
        "\n",
        "  tl.store(H + Ks * 0 + pid, hs, mask=Ks == (K-1)) # only writes the last h to memory"
      ],
      "metadata": {
        "id": "aDp0eXq64bze"
      },
      "execution_count": 12,
      "outputs": []
    },
    {
      "cell_type": "code",
      "source": [
        "h = zeros(BLOCKS)\n",
        "cumsum_tt[(BLOCKS, )](x, h, y, h, K=K)\n",
        "h_, y_ = cumsum(x[K:2 * K].tolist())"
      ],
      "metadata": {
        "id": "hV87tSHy7Hdn"
      },
      "execution_count": 13,
      "outputs": []
    },
    {
      "cell_type": "code",
      "source": [
        "print(h)\n",
        "print(h_)\n",
        "print(h[1])"
      ],
      "metadata": {
        "colab": {
          "base_uri": "https://localhost:8080/"
        },
        "id": "is6VY0up7Zp3",
        "outputId": "b3cb7fbf-195d-4237-cf34-69d1ecdc85f7"
      },
      "execution_count": 14,
      "outputs": [
        {
          "output_type": "stream",
          "name": "stdout",
          "text": [
            "tensor([ 120.,  376.,  632.,  888., 1144., 1400., 1656., 1912.],\n",
            "       device='cuda:0')\n",
            "376.0\n",
            "tensor(376., device='cuda:0')\n"
          ]
        }
      ]
    },
    {
      "cell_type": "code",
      "source": [
        "arange(120/BLOCKS + 1).sum()"
      ],
      "metadata": {
        "colab": {
          "base_uri": "https://localhost:8080/"
        },
        "id": "WhNxFdXt7icq",
        "outputId": "658c9e91-91ce-4c33-eda7-cba2556004d5"
      },
      "execution_count": 15,
      "outputs": [
        {
          "output_type": "execute_result",
          "data": {
            "text/plain": [
              "tensor(120., device='cuda:0')"
            ]
          },
          "metadata": {},
          "execution_count": 15
        }
      ]
    },
    {
      "cell_type": "code",
      "source": [
        "def cumsum_block(x, y, K):\n",
        "  seqlen = y.shape[0] # 128\n",
        "  BLOCKS = seqlen // K # 16\n",
        "  h = zeros(2, BLOCKS)\n",
        "  cumsum_tt[(BLOCKS, )](x, h[0], y, h[0], K=K) # first calculate the sum of each block\n",
        "  #print(h)\n",
        "  h[1, 1:] = h[0].cumsum(0)[:-1] # impute cumulative sum over blocks\n",
        "  #print(h)\n",
        "  cumsum_tt[(BLOCKS, )](x, h[1], y, h[1], K=K)  # redo cumsum but with cumsums as initial values\n",
        "\n",
        "cumsum_block(x, y, K)\n",
        "h_, y_ = cumsum(x.tolist())\n",
        "check(y, y_)"
      ],
      "metadata": {
        "colab": {
          "base_uri": "https://localhost:8080/"
        },
        "id": "07aCFSNv72bJ",
        "outputId": "8fa7370d-e01e-41d9-adf4-1ec6e4293eae"
      },
      "execution_count": 39,
      "outputs": [
        {
          "output_type": "stream",
          "name": "stdout",
          "text": [
            "✔️\n"
          ]
        }
      ]
    },
    {
      "cell_type": "code",
      "source": [
        "y_out = zeros(2**25)\n",
        "x_gpu = ones(2**25)\n",
        "x_ = x_gpu.cpu()"
      ],
      "metadata": {
        "id": "A7sBKXnlUu_v"
      },
      "execution_count": 29,
      "outputs": []
    },
    {
      "cell_type": "code",
      "source": [
        "%%timeit\n",
        "x_.cumsum(0)"
      ],
      "metadata": {
        "colab": {
          "base_uri": "https://localhost:8080/"
        },
        "id": "bxD3nzvgWRdM",
        "outputId": "5a02d7da-1c56-4147-ddaa-c126d370e635"
      },
      "execution_count": 30,
      "outputs": [
        {
          "output_type": "stream",
          "name": "stdout",
          "text": [
            "121 ms ± 8.78 ms per loop (mean ± std. dev. of 7 runs, 10 loops each)\n"
          ]
        }
      ]
    },
    {
      "cell_type": "code",
      "source": [
        "%%timeit\n",
        "cumsum_block(x_gpu, y_out, K = 2**10)"
      ],
      "metadata": {
        "colab": {
          "base_uri": "https://localhost:8080/"
        },
        "id": "MB3J3WEIWZCZ",
        "outputId": "4f5236ca-deda-4801-8163-9380a85d6ddb"
      },
      "execution_count": 40,
      "outputs": [
        {
          "output_type": "stream",
          "name": "stdout",
          "text": [
            "2.5 ms ± 8.05 µs per loop (mean ± std. dev. of 7 runs, 100 loops each)\n"
          ]
        }
      ]
    },
    {
      "cell_type": "markdown",
      "source": [
        "EMA of time autoregressive sequence: $h_k = \\alpha h_{k-1} + (1- \\alpha)x_k$ which unfurled looks like $h_k = \\alpha^k (1-\\alpha)x_0 + \\ ... \\ + \\alpha(1- \\alpha)x_{k-1} + (1-\\alpha)x_k  = \\sum_{i=0}^k \\alpha^{k-i} (1- \\alpha) x_i$"
      ],
      "metadata": {
        "id": "UkY4sRPcW80C"
      }
    },
    {
      "cell_type": "code",
      "source": [
        "# y_k = h_k\n",
        "alpha = 0.9\n",
        "def ema(x, alpha):\n",
        "  y = []\n",
        "  h = 0\n",
        "  for k in range(len(x)):\n",
        "    h = alpha*h + (1-alpha) * x[k]\n",
        "    y.append(h)\n",
        "  return h, y\n",
        "\n",
        "h_, y_ = ema(range(SEQLEN), alpha)\n",
        "plt.bar(range(SEQLEN), y_)"
      ],
      "metadata": {
        "colab": {
          "base_uri": "https://localhost:8080/",
          "height": 346
        },
        "id": "W8-fPsnrX8vs",
        "outputId": "1d9ec744-504e-4b61-9e15-6325e74854e3"
      },
      "execution_count": 56,
      "outputs": [
        {
          "output_type": "execute_result",
          "data": {
            "text/plain": [
              "<BarContainer object of 128 artists>"
            ]
          },
          "metadata": {},
          "execution_count": 56
        },
        {
          "output_type": "display_data",
          "data": {
            "text/plain": [
              "<Figure size 1000x400 with 1 Axes>"
            ],
            "image/png": "[encoded data removed]"
          },
          "metadata": {}
        }
      ]
    },
    {
      "cell_type": "code",
      "source": [
        "# y_k = h_k\n",
        "alpha = 0.9\n",
        "def ema(x, alpha):\n",
        "  y = []\n",
        "  for k in range(len(x)):\n",
        "    if k == 0:\n",
        "      h = 0\n",
        "    else:\n",
        "      h = y[k-1]\n",
        "    new_term = (alpha**(len(x)-k))*(1-alpha)*x[k]\n",
        "    y.append(h+new_term)\n",
        "  return h, y\n",
        "\n",
        "h_, y_ = ema(range(SEQLEN), alpha)\n",
        "plt.bar(range(SEQLEN), y_)"
      ],
      "metadata": {
        "colab": {
          "base_uri": "https://localhost:8080/",
          "height": 411
        },
        "id": "7ehSBgs_X6R4",
        "outputId": "3b31ab54-1c5a-4f01-c910-89b8c155957d"
      },
      "execution_count": 60,
      "outputs": [
        {
          "output_type": "execute_result",
          "data": {
            "text/plain": [
              "<BarContainer object of 128 artists>"
            ]
          },
          "metadata": {},
          "execution_count": 60
        },
        {
          "output_type": "display_data",
          "data": {
            "text/plain": [
              "<Figure size 1000x400 with 1 Axes>"
            ],
            "image/png": "[encoded data removed]"
          },
          "metadata": {}
        }
      ]
    },
    {
      "cell_type": "markdown",
      "source": [
        "SSMs:  \n",
        "$h_k = a h_{k-1} + b x_k$ \\\\\n",
        "$y_k = c h_k$ \\\\\n",
        "Problem is this is not associative with \"normal\" addition like associative scan was so define new weird addition $\\oplus$ such that $(a_1, b_1) \\oplus (a_2, b_2) = (a_1 a_2, a_2 b_1 + b_2)$"
      ],
      "metadata": {
        "id": "A0o6AE_sfn66"
      }
    },
    {
      "cell_type": "code",
      "source": [
        "def ssm_scan(x, a, b, c):\n",
        "  y = []\n",
        "  h = 0\n",
        "  for k in range(len(x)):\n",
        "    h = h * a + b * x[k]\n",
        "    y.append(c * h)\n",
        "  return h, y\n",
        "\n",
        "h_, y_ = ssm_scan(range(SEQLEN), alpha, (1-alpha), 1)"
      ],
      "metadata": {
        "id": "WsmyHKDzdSEd"
      },
      "execution_count": 74,
      "outputs": []
    },
    {
      "cell_type": "code",
      "source": [
        "def op(a, b):\n",
        "  return (a[0] * b[0], b[0] * a[1] + b[1])"
      ],
      "metadata": {
        "id": "UH9_6K6ugyO4"
      },
      "execution_count": 75,
      "outputs": []
    },
    {
      "cell_type": "code",
      "source": [
        "def ssm_associative(x, a, b, c):\n",
        "  y = []\n",
        "  h = (alpha, 0)\n",
        "  for k in range(len(x)):\n",
        "    h_new = (a, b * x[k]) # this is the 2-tuple that the weird addition operates on\n",
        "    h = op(h, h_new)\n",
        "    y.append(c * h[1]) # only keeping second argument\n",
        "  return h, torch.stack(y)\n",
        "\n",
        "#assert ema(x, alpha)[0] == ssm_associative(x, alpha, 1-alpha, 1)[0][1]\n",
        "h_, y_ = ssm_associative(x, alpha, 1-alpha, 1)\n",
        "plt.bar(range(SEQLEN), y_.cpu())"
      ],
      "metadata": {
        "colab": {
          "base_uri": "https://localhost:8080/",
          "height": 346
        },
        "id": "Qg4KtOVshzCi",
        "outputId": "e44e1b57-eb79-4233-a668-69d9fb576184"
      },
      "execution_count": 82,
      "outputs": [
        {
          "output_type": "execute_result",
          "data": {
            "text/plain": [
              "<BarContainer object of 128 artists>"
            ]
          },
          "metadata": {},
          "execution_count": 82
        },
        {
          "output_type": "display_data",
          "data": {
            "text/plain": [
              "<Figure size 1000x400 with 1 Axes>"
            ],
            "image/png": "[encoded data removed]"
          },
          "metadata": {}
        }
      ]
    },
    {
      "cell_type": "code",
      "source": [
        "# l: left\n",
        "# r: right\n",
        "@triton.jit\n",
        "def first_order_op(fl, xl, fr, xr):\n",
        "  f = fr*fl\n",
        "  x = fr * xl + xr\n",
        "  return f, x"
      ],
      "metadata": {
        "id": "Ea8oopQijzmx"
      },
      "execution_count": 85,
      "outputs": []
    },
    {
      "cell_type": "code",
      "source": [
        "@triton.jit\n",
        "def ssm_load(Ks, A, B, C):\n",
        "  a = tl.load(A + Ks)\n",
        "  b = tl.load(B + Ks)\n",
        "  c = tl.load(C + Ks)\n",
        "  return a, b, c"
      ],
      "metadata": {
        "id": "6sWY-ng5kHKf"
      },
      "execution_count": 86,
      "outputs": []
    },
    {
      "cell_type": "code",
      "source": [
        "@triton.jit\n",
        "def simple_ssm_tt(X, A, B, C, Y, K: tl.constexpr):\n",
        "  Ks = tl.arange(0, K)\n",
        "\n",
        "  bid = tl.program_id(0) # batch_id\n",
        "  kid = bid * K # get position in sequence for K\n",
        "  x = tl.load(X + Ks + kid)\n",
        "  a, b, c = ssm_load(Ks + kid, A, B, C)\n",
        "\n",
        "  h1, h2 = tl.associative_scan((a, b*x), 0, first_order_op) # two dims\n",
        "  y = c * h2"
      ],
      "metadata": {
        "id": "IMAUkFfqkSmj"
      },
      "execution_count": null,
      "outputs": []
    }
  ]
}